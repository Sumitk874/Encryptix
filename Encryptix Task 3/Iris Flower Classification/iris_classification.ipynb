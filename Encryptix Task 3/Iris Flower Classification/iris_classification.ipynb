{
  "cells": [
    {
      "cell_type": "markdown",
      "metadata": {
        "id": "9UcCzz48Z7JF"
      },
      "source": [
        "# Iris Flower Classification"
      ]
    },
    {
      "cell_type": "markdown",
      "metadata": {
        "id": "BtRVQKG1aroB"
      },
      "source": [
        "### Importing Required Libraries"
      ]
    },
    {
      "cell_type": "code",
      "execution_count": null,
      "metadata": {
        "id": "Wjqck8ZeXh3t"
      },
      "outputs": [],
      "source": [
        "import pandas as pd\n",
        "import numpy as np\n",
        "import seaborn as sns\n",
        "import matplotlib.pyplot as plt\n",
        "\n",
        "\n",
        "from warnings import filterwarnings\n",
        "filterwarnings(action='ignore')"
      ]
    },
    {
      "cell_type": "markdown",
      "metadata": {
        "id": "qDWdkl-xa7hr"
      },
      "source": [
        "### Loading the Dataset"
      ]
    },
    {
      "cell_type": "code",
      "execution_count": null,
      "metadata": {
        "id": "vr_mNfDbbTMg"
      },
      "outputs": [],
      "source": [
        "iris_df=pd.read_csv(\"IRIS.csv\")"
      ]
    },
    {
      "cell_type": "code",
      "execution_count": null,
      "metadata": {
        "colab": {
          "base_uri": "https://localhost:8080/",
          "height": 206
        },
        "id": "_d87Y7O8bej_",
        "outputId": "f6d8754b-ebcc-4dcf-f47a-a4610913b81c"
      },
      "outputs": [],
      "source": [
        "iris_df.head()"
      ]
    },
    {
      "cell_type": "markdown",
      "metadata": {
        "id": "ZvoL8TRibnbb"
      },
      "source": [
        "### Printing the whole table"
      ]
    },
    {
      "cell_type": "code",
      "execution_count": null,
      "metadata": {
        "colab": {
          "base_uri": "https://localhost:8080/"
        },
        "id": "lY9zkSP4bnEw",
        "outputId": "4eb3e7d9-2b08-4a3c-8657-0a84a444a25c"
      },
      "outputs": [],
      "source": [
        "print(iris_df)"
      ]
    },
    {
      "cell_type": "code",
      "execution_count": null,
      "metadata": {
        "colab": {
          "base_uri": "https://localhost:8080/"
        },
        "id": "twJnKBWIbyhp",
        "outputId": "185d101f-ab41-4bd9-dbb4-31c11efcbfda"
      },
      "outputs": [],
      "source": [
        "print(iris_df.shape)"
      ]
    },
    {
      "cell_type": "code",
      "execution_count": null,
      "metadata": {
        "colab": {
          "base_uri": "https://localhost:8080/"
        },
        "id": "CNeez7rdb5zm",
        "outputId": "ebe1823b-3d24-4784-d973-5eddd640a845"
      },
      "outputs": [],
      "source": [
        "print(iris_df.describe())"
      ]
    },
    {
      "cell_type": "markdown",
      "metadata": {
        "id": "tZE-vfT3aQTl"
      },
      "source": [
        "### Checking for null values"
      ]
    },
    {
      "cell_type": "code",
      "execution_count": null,
      "metadata": {
        "colab": {
          "base_uri": "https://localhost:8080/"
        },
        "id": "RqUsnWqVcC9p",
        "outputId": "70d70bb2-ee9b-44d8-b388-be0446f40263"
      },
      "outputs": [],
      "source": [
        "print(iris_df.isna().sum())\n",
        "print(iris_df.describe())"
      ]
    },
    {
      "cell_type": "code",
      "execution_count": null,
      "metadata": {
        "colab": {
          "base_uri": "https://localhost:8080/",
          "height": 206
        },
        "id": "ghMXRaQhcL4g",
        "outputId": "40470394-47e8-4cf2-9405-2ed294e9b4cc"
      },
      "outputs": [],
      "source": [
        "iris_df.head()"
      ]
    },
    {
      "cell_type": "code",
      "execution_count": null,
      "metadata": {
        "colab": {
          "base_uri": "https://localhost:8080/",
          "height": 424
        },
        "id": "dsY_OlaacQys",
        "outputId": "cb653975-7e0b-4a34-a992-af2463a108d4"
      },
      "outputs": [],
      "source": [
        "iris_df.head(150)"
      ]
    },
    {
      "cell_type": "code",
      "execution_count": null,
      "metadata": {
        "colab": {
          "base_uri": "https://localhost:8080/",
          "height": 424
        },
        "id": "lOrlBUSKcVB-",
        "outputId": "61a5baaa-b013-45dd-a419-d035b6616a10"
      },
      "outputs": [],
      "source": [
        "iris_df.tail(100)"
      ]
    },
    {
      "cell_type": "code",
      "execution_count": null,
      "metadata": {
        "colab": {
          "base_uri": "https://localhost:8080/"
        },
        "id": "GRCv6LOzcZjO",
        "outputId": "eeedc214-52ff-4690-cb73-64a4bb09ad54"
      },
      "outputs": [],
      "source": [
        "n = len(iris_df[iris_df['species'] == 'versicolor'])\n",
        "print(\"No of Versicolor in Dataset:\",n)"
      ]
    },
    {
      "cell_type": "code",
      "execution_count": null,
      "metadata": {
        "colab": {
          "base_uri": "https://localhost:8080/"
        },
        "id": "kXQhWfgXcoKX",
        "outputId": "8936f76c-c9a6-45b1-efde-288eff46a77c"
      },
      "outputs": [],
      "source": [
        "n1 = len(iris_df[iris_df['species'] == 'virginica'])\n",
        "print(\"No of Virginica in Dataset:\",n1)"
      ]
    },
    {
      "cell_type": "code",
      "execution_count": null,
      "metadata": {
        "colab": {
          "base_uri": "https://localhost:8080/"
        },
        "id": "UF-dxmNOcv_3",
        "outputId": "9d84671b-7589-497f-e46b-dd3f4c810274"
      },
      "outputs": [],
      "source": [
        "n2 = len(iris_df[iris_df['species'] == 'setosa'])\n",
        "print(\"No of Setosa in Dataset:\",n2)"
      ]
    },
    {
      "cell_type": "markdown",
      "metadata": {
        "id": "cszwFTySaYc8"
      },
      "source": [
        "### Plotting the percentage of different species present in the dataset"
      ]
    },
    {
      "cell_type": "code",
      "execution_count": null,
      "metadata": {
        "colab": {
          "base_uri": "https://localhost:8080/",
          "height": 516
        },
        "id": "AAGwUe3OfT84",
        "outputId": "95ed73bd-9b0c-477e-e4d5-3582cc8450f7"
      },
      "outputs": [],
      "source": [
        "fig = plt.figure()\n",
        "ax = fig.add_axes([0,0,1,1])\n",
        "ax.axis('equal')\n",
        "l = ['Versicolor', 'Setosa', 'Virginica']\n",
        "s = [50,50,50]\n",
        "ax.pie(s, labels = l,autopct='%1.2f%%')\n",
        "plt.show()"
      ]
    },
    {
      "cell_type": "markdown",
      "metadata": {
        "id": "ooMd10ZsaiUM"
      },
      "source": [
        "### Checking for outliars"
      ]
    },
    {
      "cell_type": "code",
      "execution_count": null,
      "metadata": {
        "colab": {
          "base_uri": "https://localhost:8080/",
          "height": 846
        },
        "id": "xBCPmrsZgT_4",
        "outputId": "8c24509f-3fc1-4d48-9a6d-c22a6bf207ad"
      },
      "outputs": [],
      "source": [
        "import matplotlib.pyplot as plt\n",
        "plt.figure(1)\n",
        "plt.boxplot([iris_df['sepal_length']])\n",
        "plt.figure(2)\n",
        "plt.boxplot([iris_df['sepal_width']])\n",
        "plt.show()"
      ]
    },
    {
      "cell_type": "markdown",
      "metadata": {
        "id": "GGjDTj3ob54c"
      },
      "source": [
        "### Plotting histogram for Sepal Length, Sepal Width, Petal Length, Petal Width"
      ]
    },
    {
      "cell_type": "code",
      "execution_count": null,
      "metadata": {
        "colab": {
          "base_uri": "https://localhost:8080/",
          "height": 452
        },
        "id": "8GUwjud-glmA",
        "outputId": "65788937-8279-4165-fb9c-f7118a0c2caf"
      },
      "outputs": [],
      "source": [
        "iris_df.hist()\n",
        "plt.show()"
      ]
    },
    {
      "cell_type": "code",
      "execution_count": null,
      "metadata": {
        "colab": {
          "base_uri": "https://localhost:8080/",
          "height": 405
        },
        "id": "BLxCVyPggqHF",
        "outputId": "0fc1fef6-f63e-4ae6-dfca-b2547d0ddbd5"
      },
      "outputs": [],
      "source": [
        "fig, axes = plt.subplots(2, 2, figsize=(12, 10))  # 2 rows, 2 columns\n",
        "iris_df.plot(kind='density', subplots=True, layout=(2, 2), sharex=False, ax=axes)\n",
        "plt.tight_layout()\n",
        "plt.show()"
      ]
    },
    {
      "cell_type": "markdown",
      "metadata": {
        "id": "OSDt-0cqa_JW"
      },
      "source": [
        "### Box and whisker plots -> For understanding the distribution of input attributes"
      ]
    },
    {
      "cell_type": "code",
      "execution_count": null,
      "metadata": {
        "colab": {
          "base_uri": "https://localhost:8080/",
          "height": 320
        },
        "id": "lAfyhR9cg5Dg",
        "outputId": "ff719a73-6f07-452a-d1f7-91685416efa1"
      },
      "outputs": [],
      "source": [
        "fig, axes = plt.subplots(2, 2, figsize=(12, 10))  # 2 rows, 2 columns\n",
        "iris_df.plot(kind='box', subplots=True, layout=(2, 2), sharex=False, ax=axes)\n",
        "plt.tight_layout()\n",
        "plt.show()"
      ]
    },
    {
      "cell_type": "code",
      "execution_count": null,
      "metadata": {
        "colab": {
          "base_uri": "https://localhost:8080/",
          "height": 867
        },
        "id": "yoStyKELhAmU",
        "outputId": "3fecb9f3-73bf-4d22-c926-d52df9e9fe61"
      },
      "outputs": [],
      "source": [
        "plt.figure(figsize=(10,10))\n",
        "plt.subplot(2,2,1)\n",
        "custom_palette = ['#ff9999', '#66b3ff', '#99ff99']\n",
        "sns.violinplot(x='species',y='petal_length',data=iris_df, palette=custom_palette)\n",
        "plt.subplot(2,2,2)\n",
        "sns.violinplot(x='species',y='petal_width',data=iris_df, palette=custom_palette)\n",
        "plt.subplot(2,2,3)\n",
        "sns.violinplot(x='species',y='sepal_length',data=iris_df, palette=custom_palette)\n",
        "plt.subplot(2,2,4)\n",
        "sns.violinplot(x='species',y='sepal_width',data=iris_df, palette=custom_palette)"
      ]
    },
    {
      "cell_type": "code",
      "execution_count": null,
      "metadata": {
        "colab": {
          "base_uri": "https://localhost:8080/",
          "height": 1000
        },
        "id": "ZqaLoy6pi9Pi",
        "outputId": "2e7cc03f-12ca-41fe-fdf0-78202667aedf"
      },
      "outputs": [],
      "source": [
        "sns.pairplot(iris_df,hue='species')"
      ]
    },
    {
      "cell_type": "markdown",
      "metadata": {
        "id": "NiNm-JOKbt_d"
      },
      "source": [
        "### Convert the 'species' column to numeric values using LabelEncoder"
      ]
    },
    {
      "cell_type": "code",
      "execution_count": null,
      "metadata": {
        "id": "uO1WPrU3nTtb"
      },
      "outputs": [],
      "source": [
        "from sklearn.preprocessing import LabelEncoder\n",
        "\n",
        "le = LabelEncoder()\n",
        "iris_df['species'] = le.fit_transform(iris_df['species'])"
      ]
    },
    {
      "cell_type": "markdown",
      "metadata": {
        "id": "pelQvQISbrnO"
      },
      "source": [
        "### Heat Maps"
      ]
    },
    {
      "cell_type": "code",
      "execution_count": null,
      "metadata": {
        "colab": {
          "base_uri": "https://localhost:8080/",
          "height": 605
        },
        "id": "kxJl66DJk95g",
        "outputId": "c193e63c-3b92-4d11-a71f-278a2fe0b81b"
      },
      "outputs": [],
      "source": [
        "fig=plt.gcf()\n",
        "fig.set_size_inches(10,7)\n",
        "fig=sns.heatmap(iris_df.corr(),annot=True,cmap='cubehelix',linewidths=1,linecolor='k',square=True,mask=False, vmin=-1, vmax=1,cbar_kws={\"orientation\": \"vertical\"},cbar=True)"
      ]
    },
    {
      "cell_type": "code",
      "execution_count": null,
      "metadata": {
        "colab": {
          "base_uri": "https://localhost:8080/"
        },
        "id": "_vl4S4VHlTvD",
        "outputId": "70cd3a9e-f698-444e-a4b7-ff923fe8e845"
      },
      "outputs": [],
      "source": [
        "X = iris_df['sepal_length'].values.reshape(-1,1)\n",
        "print(X)"
      ]
    },
    {
      "cell_type": "code",
      "execution_count": null,
      "metadata": {
        "colab": {
          "base_uri": "https://localhost:8080/"
        },
        "id": "F-TKKu9Jlb1W",
        "outputId": "ad82923f-a47d-4051-e0f2-860910ad45a4"
      },
      "outputs": [],
      "source": [
        "Y = iris_df['sepal_width'].values.reshape(-1,1)\n",
        "print(Y)"
      ]
    },
    {
      "cell_type": "markdown",
      "metadata": {
        "id": "U89BHRhVbYtc"
      },
      "source": [
        "### Plotting Scatter Graph between Sepal Length and Sepal Width"
      ]
    },
    {
      "cell_type": "code",
      "execution_count": null,
      "metadata": {
        "colab": {
          "base_uri": "https://localhost:8080/",
          "height": 452
        },
        "id": "mr-ycZXCli6s",
        "outputId": "53c4c04e-e504-4682-86d6-bfd3c942089b"
      },
      "outputs": [],
      "source": [
        "plt.xlabel(\"Sepal Length\")\n",
        "plt.ylabel(\"Sepal Width\")\n",
        "plt.scatter(X,Y,color='g')\n",
        "plt.show()"
      ]
    },
    {
      "cell_type": "markdown",
      "metadata": {
        "id": "E0QevG7Abmz8"
      },
      "source": [
        "### Calculate the correlation matrix"
      ]
    },
    {
      "cell_type": "code",
      "execution_count": null,
      "metadata": {
        "colab": {
          "base_uri": "https://localhost:8080/"
        },
        "id": "NIDii6R2mV-1",
        "outputId": "b0e44997-89f5-40c2-867b-c6c232117b8a"
      },
      "outputs": [],
      "source": [
        "corr_mat = iris_df.corr()\n",
        "print(corr_mat)"
      ]
    },
    {
      "cell_type": "code",
      "execution_count": null,
      "metadata": {
        "id": "mrsXzRhSniBP"
      },
      "outputs": [],
      "source": [
        "from sklearn.linear_model import LogisticRegression\n",
        "from sklearn.model_selection import train_test_split\n",
        "from sklearn.neighbors import KNeighborsClassifier\n",
        "from sklearn import svm\n",
        "from sklearn import metrics\n",
        "from sklearn.tree import DecisionTreeClassifier"
      ]
    },
    {
      "cell_type": "markdown",
      "metadata": {
        "id": "WbeTPJk5cn3F"
      },
      "source": [
        "### Creating Train and Test model for the prediction model"
      ]
    },
    {
      "cell_type": "code",
      "execution_count": null,
      "metadata": {
        "colab": {
          "base_uri": "https://localhost:8080/"
        },
        "id": "p1r1cYOunl8y",
        "outputId": "8d5bfcd2-db54-4957-e74f-f70f4d7ee51c"
      },
      "outputs": [],
      "source": [
        "train, test = train_test_split(iris_df, test_size = 0.25)\n",
        "print(train.shape)\n",
        "print(test.shape)"
      ]
    },
    {
      "cell_type": "code",
      "execution_count": null,
      "metadata": {
        "id": "yJVtNCJrn1zz"
      },
      "outputs": [],
      "source": [
        "train_X = train[['sepal_length', 'sepal_width', 'petal_length',\n",
        "                 'petal_width']]\n",
        "train_y = train.species\n",
        "\n",
        "test_X = test[['sepal_length', 'sepal_width', 'petal_length',\n",
        "                 'petal_width']]\n",
        "test_y = test.species"
      ]
    },
    {
      "cell_type": "code",
      "execution_count": null,
      "metadata": {
        "colab": {
          "base_uri": "https://localhost:8080/",
          "height": 206
        },
        "id": "8oBwNCIcoOj5",
        "outputId": "e49b0ab8-2985-4374-eaa2-798442264194"
      },
      "outputs": [],
      "source": [
        "train_X.head()"
      ]
    },
    {
      "cell_type": "code",
      "execution_count": null,
      "metadata": {
        "colab": {
          "base_uri": "https://localhost:8080/"
        },
        "id": "U9Oq1NSPoSK6",
        "outputId": "8940fa04-8287-4a14-fad6-6d127d3dbcc2"
      },
      "outputs": [],
      "source": [
        "test_y.head()"
      ]
    },
    {
      "cell_type": "markdown",
      "metadata": {
        "id": "58EmTKxScjC2"
      },
      "source": [
        "### Using Logistic Regression"
      ]
    },
    {
      "cell_type": "code",
      "execution_count": null,
      "metadata": {
        "colab": {
          "base_uri": "https://localhost:8080/"
        },
        "id": "UE2bxvpKoZwS",
        "outputId": "3a8721d6-f99d-4c9d-cc44-b1029b4da6fe"
      },
      "outputs": [],
      "source": [
        "model = LogisticRegression()\n",
        "model.fit(train_X, train_y)\n",
        "prediction = model.predict(test_X)\n",
        "print('Accuracy:',metrics.accuracy_score(prediction,test_y))"
      ]
    },
    {
      "cell_type": "markdown",
      "metadata": {
        "id": "7eD8rn6RcgHl"
      },
      "source": [
        "### Confusion matrix"
      ]
    },
    {
      "cell_type": "code",
      "execution_count": null,
      "metadata": {
        "colab": {
          "base_uri": "https://localhost:8080/"
        },
        "id": "lxQLGm-vodjJ",
        "outputId": "7bfd9d2f-468c-4d16-ed95-a0a8739e9aa5"
      },
      "outputs": [],
      "source": [
        "from sklearn.metrics import confusion_matrix,classification_report\n",
        "confusion_mat = confusion_matrix(test_y,prediction)\n",
        "print(\"Confusion matrix: \\n\",confusion_mat)\n",
        "print(classification_report(test_y,prediction))"
      ]
    },
    {
      "cell_type": "markdown",
      "metadata": {
        "id": "L4GmuhBCccb_"
      },
      "source": [
        "### Using Support Vector"
      ]
    },
    {
      "cell_type": "code",
      "execution_count": null,
      "metadata": {
        "colab": {
          "base_uri": "https://localhost:8080/"
        },
        "id": "3lMD6YiPoiSU",
        "outputId": "cd8d1200-9d1b-4547-f473-73d9372e2658"
      },
      "outputs": [],
      "source": [
        "from sklearn.svm import SVC\n",
        "model1 = SVC()\n",
        "model1.fit(train_X,train_y)\n",
        "\n",
        "pred_y = model1.predict(test_X)\n",
        "\n",
        "from sklearn.metrics import accuracy_score\n",
        "print(\"Acc=\",accuracy_score(test_y,pred_y))"
      ]
    },
    {
      "cell_type": "markdown",
      "metadata": {
        "id": "wYJGdv3WcZSe"
      },
      "source": [
        "### Using KNN Neighbors"
      ]
    },
    {
      "cell_type": "code",
      "execution_count": null,
      "metadata": {
        "colab": {
          "base_uri": "https://localhost:8080/"
        },
        "id": "gBYxNAG0ol7z",
        "outputId": "93ca5925-085f-43e0-ac29-ffe344908190"
      },
      "outputs": [],
      "source": [
        "from sklearn.neighbors import KNeighborsClassifier\n",
        "model2 = KNeighborsClassifier(n_neighbors=5)\n",
        "model2.fit(train_X,train_y)\n",
        "y_pred2 = model2.predict(test_X)\n",
        "\n",
        "from sklearn.metrics import accuracy_score\n",
        "print(\"Accuracy Score:\",accuracy_score(test_y,y_pred2))"
      ]
    },
    {
      "cell_type": "markdown",
      "metadata": {
        "id": "d_1uJ3kzcVk1"
      },
      "source": [
        "### Using GaussianNB"
      ]
    },
    {
      "cell_type": "code",
      "execution_count": null,
      "metadata": {
        "colab": {
          "base_uri": "https://localhost:8080/"
        },
        "id": "XPmLXWlVoo78",
        "outputId": "ae7efa30-7e33-4935-d67c-1ef0ed0a327f"
      },
      "outputs": [],
      "source": [
        "from sklearn.naive_bayes import GaussianNB\n",
        "model3 = GaussianNB()\n",
        "model3.fit(train_X,train_y)\n",
        "y_pred3 = model3.predict(test_X)\n",
        "\n",
        "from sklearn.metrics import accuracy_score\n",
        "print(\"Accuracy Score:\",accuracy_score(test_y,y_pred3))"
      ]
    },
    {
      "cell_type": "markdown",
      "metadata": {
        "id": "_k9k-dlUcRI1"
      },
      "source": [
        "### Using Decision Tree"
      ]
    },
    {
      "cell_type": "code",
      "execution_count": null,
      "metadata": {
        "colab": {
          "base_uri": "https://localhost:8080/"
        },
        "id": "f-mNKENXotWM",
        "outputId": "aaffa1b3-78a2-4efa-d366-9d2738a490d2"
      },
      "outputs": [],
      "source": [
        "from sklearn.tree import DecisionTreeClassifier\n",
        "model4 = DecisionTreeClassifier(criterion='entropy',random_state=7)\n",
        "model4.fit(train_X,train_y)\n",
        "y_pred4 = model4.predict(test_X)\n",
        "\n",
        "from sklearn.metrics import accuracy_score\n",
        "print(\"Accuracy Score:\",accuracy_score(test_y,y_pred4))"
      ]
    },
    {
      "cell_type": "markdown",
      "metadata": {
        "id": "uyz1PTKzeIOe"
      },
      "source": [
        "### Results of all the Models and their Accuracy Scores"
      ]
    },
    {
      "cell_type": "code",
      "execution_count": null,
      "metadata": {
        "colab": {
          "base_uri": "https://localhost:8080/",
          "height": 238
        },
        "id": "LrWqL-B1oxHj",
        "outputId": "8c13b721-32b3-4847-b794-9ab93ddb2459"
      },
      "outputs": [],
      "source": [
        "results = pd.DataFrame({\n",
        "    'Model': ['Logistic Regression','Support Vector Machines', 'Naive Bayes','KNN' ,'Decision Tree'],\n",
        "    'Score': [0.947,0.947,0.947,0.947,0.921]})\n",
        "\n",
        "result_df = results.sort_values(by='Score', ascending=False)\n",
        "result_df = result_df.set_index('Score')\n",
        "result_df.head(9)"
      ]
    }
  ],
  "metadata": {
    "colab": {
      "provenance": []
    },
    "kernelspec": {
      "display_name": "Python 3",
      "name": "python3"
    },
    "language_info": {
      "codemirror_mode": {
        "name": "ipython",
        "version": 3
      },
      "file_extension": ".py",
      "mimetype": "text/x-python",
      "name": "python",
      "nbconvert_exporter": "python",
      "pygments_lexer": "ipython3",
      "version": "3.12.4"
    }
  },
  "nbformat": 4,
  "nbformat_minor": 0
}
