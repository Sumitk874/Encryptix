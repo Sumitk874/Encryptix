{
 "cells": [
  {
   "cell_type": "markdown",
   "id": "689884e6",
   "metadata": {},
   "source": [
    "# Titanic Dataset\n",
    "**Description**:\n",
    "The sinking of the Titanic is one of the most infamous shipwrecks in history.\n",
    "\n",
    "On April 15, 1912, during her maiden voyage, the widely considered “unsinkable” RMS Titanic sank after colliding with an iceberg. Unfortunately, there weren’t enough lifeboats for everyone on board, resulting in the death of 1502 out of 2224 passengers and crew.\n",
    "\n",
    "While there was some element of luck involved in surviving, it seems some groups of people were more likely to survive than others.\n",
    "\n",
    "In this challenge, we ask you to build a predictive model that answers the question: “what sorts of people were more likely to survive?” using passenger data (ie name, age, gender, socio-economic class, etc)."
   ]
  },
  {
   "cell_type": "code",
   "execution_count": 1,
   "id": "8984f343",
   "metadata": {
    "execution": {
     "iopub.execute_input": "2024-03-21T23:47:18.801570Z",
     "iopub.status.busy": "2024-03-21T23:47:18.800931Z",
     "iopub.status.idle": "2024-03-21T23:47:21.685684Z",
     "shell.execute_reply": "2024-03-21T23:47:21.684250Z"
    },
    "papermill": {
     "duration": 2.898411,
     "end_time": "2024-03-21T23:47:21.688285",
     "exception": false,
     "start_time": "2024-03-21T23:47:18.789874",
     "status": "completed"
    },
    "tags": []
   },
   "outputs": [],
   "source": [
    "import pandas as pd\n",
    "from sklearn.preprocessing import LabelEncoder,StandardScaler\n",
    "import seaborn as sns\n",
    "import matplotlib.pyplot as plt \n",
    "from sklearn.model_selection import train_test_split\n",
    "from sklearn.svm import SVC\n",
    "from sklearn.metrics import accuracy_score, precision_score,confusion_matrix"
   ]
  },
  {
   "cell_type": "markdown",
   "id": "b5f09a57",
   "metadata": {
    "papermill": {
     "duration": 0.007996,
     "end_time": "2024-03-21T23:47:21.704762",
     "exception": false,
     "start_time": "2024-03-21T23:47:21.696766",
     "status": "completed"
    },
    "tags": []
   },
   "source": [
    "Data Exploration"
   ]
  },
  {
   "cell_type": "markdown",
   "id": "927e20c7",
   "metadata": {},
   "source": [
    "**Variable Definition Key**\n",
    "| Variable | Description                               | Values                                      |\n",
    "|----------|-------------------------------------------|---------------------------------------------|\n",
    "| survival | Survival                                  | 0 = No, 1 = Yes                             |\n",
    "| pclass   | Ticket class                              | 1 = 1st, 2 = 2nd, 3 = 3rd                   |\n",
    "| sex      | Sex                                       |                                             |\n",
    "| age      | Age in years                              |                                             |\n",
    "| sibsp    | Number of siblings / spouses aboard      |                                             |\n",
    "| parch    | Number of parents / children aboard      |                                             |\n",
    "| ticket   | Ticket number                             |                                             |\n",
    "| fare     | Passenger fare                            |                                             |\n",
    "| cabin    | Cabin number                              |                                             |\n",
    "| embarked | Port of Embarkation                       | C = Cherbourg, Q = Queenstown, S = Southampton |\n",
    "\n"
   ]
  },
  {
   "cell_type": "code",
   "execution_count": 2,
   "id": "7c323ddc",
   "metadata": {
    "execution": {
     "iopub.execute_input": "2024-03-21T23:47:21.723383Z",
     "iopub.status.busy": "2024-03-21T23:47:21.722807Z",
     "iopub.status.idle": "2024-03-21T23:47:21.750776Z",
     "shell.execute_reply": "2024-03-21T23:47:21.749807Z"
    },
    "papermill": {
     "duration": 0.040143,
     "end_time": "2024-03-21T23:47:21.753376",
     "exception": false,
     "start_time": "2024-03-21T23:47:21.713233",
     "status": "completed"
    },
    "tags": []
   },
   "outputs": [],
   "source": [
    "#reading Data\n",
    "titanic_data = pd.read_csv('Titanic-Dataset.csv')"
   ]
  },
  {
   "cell_type": "code",
   "execution_count": 3,
   "id": "a6d3289e",
   "metadata": {
    "execution": {
     "iopub.execute_input": "2024-03-21T23:47:21.772689Z",
     "iopub.status.busy": "2024-03-21T23:47:21.771924Z",
     "iopub.status.idle": "2024-03-21T23:47:21.798281Z",
     "shell.execute_reply": "2024-03-21T23:47:21.796920Z"
    },
    "papermill": {
     "duration": 0.03946,
     "end_time": "2024-03-21T23:47:21.801279",
     "exception": false,
     "start_time": "2024-03-21T23:47:21.761819",
     "status": "completed"
    },
    "tags": []
   },
   "outputs": [
    {
     "data": {
      "text/html": [
       "<div>\n",
       "<style scoped>\n",
       "    .dataframe tbody tr th:only-of-type {\n",
       "        vertical-align: middle;\n",
       "    }\n",
       "\n",
       "    .dataframe tbody tr th {\n",
       "        vertical-align: top;\n",
       "    }\n",
       "\n",
       "    .dataframe thead th {\n",
       "        text-align: right;\n",
       "    }\n",
       "</style>\n",
       "<table border=\"1\" class=\"dataframe\">\n",
       "  <thead>\n",
       "    <tr style=\"text-align: right;\">\n",
       "      <th></th>\n",
       "      <th>PassengerId</th>\n",
       "      <th>Survived</th>\n",
       "      <th>Pclass</th>\n",
       "      <th>Name</th>\n",
       "      <th>Sex</th>\n",
       "      <th>Age</th>\n",
       "      <th>SibSp</th>\n",
       "      <th>Parch</th>\n",
       "      <th>Ticket</th>\n",
       "      <th>Fare</th>\n",
       "      <th>Cabin</th>\n",
       "      <th>Embarked</th>\n",
       "    </tr>\n",
       "  </thead>\n",
       "  <tbody>\n",
       "    <tr>\n",
       "      <th>0</th>\n",
       "      <td>1</td>\n",
       "      <td>0</td>\n",
       "      <td>3</td>\n",
       "      <td>Braund, Mr. Owen Harris</td>\n",
       "      <td>male</td>\n",
       "      <td>22.0</td>\n",
       "      <td>1</td>\n",
       "      <td>0</td>\n",
       "      <td>A/5 21171</td>\n",
       "      <td>7.2500</td>\n",
       "      <td>NaN</td>\n",
       "      <td>S</td>\n",
       "    </tr>\n",
       "    <tr>\n",
       "      <th>1</th>\n",
       "      <td>2</td>\n",
       "      <td>1</td>\n",
       "      <td>1</td>\n",
       "      <td>Cumings, Mrs. John Bradley (Florence Briggs Th...</td>\n",
       "      <td>female</td>\n",
       "      <td>38.0</td>\n",
       "      <td>1</td>\n",
       "      <td>0</td>\n",
       "      <td>PC 17599</td>\n",
       "      <td>71.2833</td>\n",
       "      <td>C85</td>\n",
       "      <td>C</td>\n",
       "    </tr>\n",
       "    <tr>\n",
       "      <th>2</th>\n",
       "      <td>3</td>\n",
       "      <td>1</td>\n",
       "      <td>3</td>\n",
       "      <td>Heikkinen, Miss. Laina</td>\n",
       "      <td>female</td>\n",
       "      <td>26.0</td>\n",
       "      <td>0</td>\n",
       "      <td>0</td>\n",
       "      <td>STON/O2. 3101282</td>\n",
       "      <td>7.9250</td>\n",
       "      <td>NaN</td>\n",
       "      <td>S</td>\n",
       "    </tr>\n",
       "    <tr>\n",
       "      <th>3</th>\n",
       "      <td>4</td>\n",
       "      <td>1</td>\n",
       "      <td>1</td>\n",
       "      <td>Futrelle, Mrs. Jacques Heath (Lily May Peel)</td>\n",
       "      <td>female</td>\n",
       "      <td>35.0</td>\n",
       "      <td>1</td>\n",
       "      <td>0</td>\n",
       "      <td>113803</td>\n",
       "      <td>53.1000</td>\n",
       "      <td>C123</td>\n",
       "      <td>S</td>\n",
       "    </tr>\n",
       "    <tr>\n",
       "      <th>4</th>\n",
       "      <td>5</td>\n",
       "      <td>0</td>\n",
       "      <td>3</td>\n",
       "      <td>Allen, Mr. William Henry</td>\n",
       "      <td>male</td>\n",
       "      <td>35.0</td>\n",
       "      <td>0</td>\n",
       "      <td>0</td>\n",
       "      <td>373450</td>\n",
       "      <td>8.0500</td>\n",
       "      <td>NaN</td>\n",
       "      <td>S</td>\n",
       "    </tr>\n",
       "  </tbody>\n",
       "</table>\n",
       "</div>"
      ],
      "text/plain": [
       "   PassengerId  Survived  Pclass  \\\n",
       "0            1         0       3   \n",
       "1            2         1       1   \n",
       "2            3         1       3   \n",
       "3            4         1       1   \n",
       "4            5         0       3   \n",
       "\n",
       "                                                Name     Sex   Age  SibSp  \\\n",
       "0                            Braund, Mr. Owen Harris    male  22.0      1   \n",
       "1  Cumings, Mrs. John Bradley (Florence Briggs Th...  female  38.0      1   \n",
       "2                             Heikkinen, Miss. Laina  female  26.0      0   \n",
       "3       Futrelle, Mrs. Jacques Heath (Lily May Peel)  female  35.0      1   \n",
       "4                           Allen, Mr. William Henry    male  35.0      0   \n",
       "\n",
       "   Parch            Ticket     Fare Cabin Embarked  \n",
       "0      0         A/5 21171   7.2500   NaN        S  \n",
       "1      0          PC 17599  71.2833   C85        C  \n",
       "2      0  STON/O2. 3101282   7.9250   NaN        S  \n",
       "3      0            113803  53.1000  C123        S  \n",
       "4      0            373450   8.0500   NaN        S  "
      ]
     },
     "execution_count": 3,
     "metadata": {},
     "output_type": "execute_result"
    }
   ],
   "source": [
    "#showing data\n",
    "titanic_data.head()"
   ]
  },
  {
   "cell_type": "code",
   "execution_count": 4,
   "id": "742becb5",
   "metadata": {
    "execution": {
     "iopub.execute_input": "2024-03-21T23:47:21.821715Z",
     "iopub.status.busy": "2024-03-21T23:47:21.821317Z",
     "iopub.status.idle": "2024-03-21T23:47:21.828583Z",
     "shell.execute_reply": "2024-03-21T23:47:21.827496Z"
    },
    "papermill": {
     "duration": 0.021255,
     "end_time": "2024-03-21T23:47:21.831153",
     "exception": false,
     "start_time": "2024-03-21T23:47:21.809898",
     "status": "completed"
    },
    "tags": []
   },
   "outputs": [
    {
     "data": {
      "text/plain": [
       "Index(['PassengerId', 'Survived', 'Pclass', 'Name', 'Sex', 'Age', 'SibSp',\n",
       "       'Parch', 'Ticket', 'Fare', 'Cabin', 'Embarked'],\n",
       "      dtype='object')"
      ]
     },
     "execution_count": 4,
     "metadata": {},
     "output_type": "execute_result"
    }
   ],
   "source": [
    "#Show columns\n",
    "titanic_data.columns"
   ]
  },
  {
   "cell_type": "code",
   "execution_count": 5,
   "id": "7238351b",
   "metadata": {
    "execution": {
     "iopub.execute_input": "2024-03-21T23:47:21.850306Z",
     "iopub.status.busy": "2024-03-21T23:47:21.849929Z",
     "iopub.status.idle": "2024-03-21T23:47:21.875188Z",
     "shell.execute_reply": "2024-03-21T23:47:21.874015Z"
    },
    "papermill": {
     "duration": 0.037973,
     "end_time": "2024-03-21T23:47:21.877832",
     "exception": false,
     "start_time": "2024-03-21T23:47:21.839859",
     "status": "completed"
    },
    "tags": []
   },
   "outputs": [
    {
     "name": "stdout",
     "output_type": "stream",
     "text": [
      "<class 'pandas.core.frame.DataFrame'>\n",
      "RangeIndex: 891 entries, 0 to 890\n",
      "Data columns (total 12 columns):\n",
      " #   Column       Non-Null Count  Dtype  \n",
      "---  ------       --------------  -----  \n",
      " 0   PassengerId  891 non-null    int64  \n",
      " 1   Survived     891 non-null    int64  \n",
      " 2   Pclass       891 non-null    int64  \n",
      " 3   Name         891 non-null    object \n",
      " 4   Sex          891 non-null    object \n",
      " 5   Age          714 non-null    float64\n",
      " 6   SibSp        891 non-null    int64  \n",
      " 7   Parch        891 non-null    int64  \n",
      " 8   Ticket       891 non-null    object \n",
      " 9   Fare         891 non-null    float64\n",
      " 10  Cabin        204 non-null    object \n",
      " 11  Embarked     889 non-null    object \n",
      "dtypes: float64(2), int64(5), object(5)\n",
      "memory usage: 83.7+ KB\n"
     ]
    }
   ],
   "source": [
    "#information about the dataset \n",
    "titanic_data.info()"
   ]
  },
  {
   "cell_type": "code",
   "execution_count": 6,
   "id": "e1af5272",
   "metadata": {
    "execution": {
     "iopub.execute_input": "2024-03-21T23:47:21.898048Z",
     "iopub.status.busy": "2024-03-21T23:47:21.897360Z",
     "iopub.status.idle": "2024-03-21T23:47:21.932231Z",
     "shell.execute_reply": "2024-03-21T23:47:21.931053Z"
    },
    "papermill": {
     "duration": 0.048135,
     "end_time": "2024-03-21T23:47:21.935192",
     "exception": false,
     "start_time": "2024-03-21T23:47:21.887057",
     "status": "completed"
    },
    "tags": []
   },
   "outputs": [
    {
     "data": {
      "text/html": [
       "<div>\n",
       "<style scoped>\n",
       "    .dataframe tbody tr th:only-of-type {\n",
       "        vertical-align: middle;\n",
       "    }\n",
       "\n",
       "    .dataframe tbody tr th {\n",
       "        vertical-align: top;\n",
       "    }\n",
       "\n",
       "    .dataframe thead th {\n",
       "        text-align: right;\n",
       "    }\n",
       "</style>\n",
       "<table border=\"1\" class=\"dataframe\">\n",
       "  <thead>\n",
       "    <tr style=\"text-align: right;\">\n",
       "      <th></th>\n",
       "      <th>PassengerId</th>\n",
       "      <th>Survived</th>\n",
       "      <th>Pclass</th>\n",
       "      <th>Age</th>\n",
       "      <th>SibSp</th>\n",
       "      <th>Parch</th>\n",
       "      <th>Fare</th>\n",
       "    </tr>\n",
       "  </thead>\n",
       "  <tbody>\n",
       "    <tr>\n",
       "      <th>count</th>\n",
       "      <td>891.000000</td>\n",
       "      <td>891.000000</td>\n",
       "      <td>891.000000</td>\n",
       "      <td>714.000000</td>\n",
       "      <td>891.000000</td>\n",
       "      <td>891.000000</td>\n",
       "      <td>891.000000</td>\n",
       "    </tr>\n",
       "    <tr>\n",
       "      <th>mean</th>\n",
       "      <td>446.000000</td>\n",
       "      <td>0.383838</td>\n",
       "      <td>2.308642</td>\n",
       "      <td>29.699118</td>\n",
       "      <td>0.523008</td>\n",
       "      <td>0.381594</td>\n",
       "      <td>32.204208</td>\n",
       "    </tr>\n",
       "    <tr>\n",
       "      <th>std</th>\n",
       "      <td>257.353842</td>\n",
       "      <td>0.486592</td>\n",
       "      <td>0.836071</td>\n",
       "      <td>14.526497</td>\n",
       "      <td>1.102743</td>\n",
       "      <td>0.806057</td>\n",
       "      <td>49.693429</td>\n",
       "    </tr>\n",
       "    <tr>\n",
       "      <th>min</th>\n",
       "      <td>1.000000</td>\n",
       "      <td>0.000000</td>\n",
       "      <td>1.000000</td>\n",
       "      <td>0.420000</td>\n",
       "      <td>0.000000</td>\n",
       "      <td>0.000000</td>\n",
       "      <td>0.000000</td>\n",
       "    </tr>\n",
       "    <tr>\n",
       "      <th>25%</th>\n",
       "      <td>223.500000</td>\n",
       "      <td>0.000000</td>\n",
       "      <td>2.000000</td>\n",
       "      <td>20.125000</td>\n",
       "      <td>0.000000</td>\n",
       "      <td>0.000000</td>\n",
       "      <td>7.910400</td>\n",
       "    </tr>\n",
       "    <tr>\n",
       "      <th>50%</th>\n",
       "      <td>446.000000</td>\n",
       "      <td>0.000000</td>\n",
       "      <td>3.000000</td>\n",
       "      <td>28.000000</td>\n",
       "      <td>0.000000</td>\n",
       "      <td>0.000000</td>\n",
       "      <td>14.454200</td>\n",
       "    </tr>\n",
       "    <tr>\n",
       "      <th>75%</th>\n",
       "      <td>668.500000</td>\n",
       "      <td>1.000000</td>\n",
       "      <td>3.000000</td>\n",
       "      <td>38.000000</td>\n",
       "      <td>1.000000</td>\n",
       "      <td>0.000000</td>\n",
       "      <td>31.000000</td>\n",
       "    </tr>\n",
       "    <tr>\n",
       "      <th>max</th>\n",
       "      <td>891.000000</td>\n",
       "      <td>1.000000</td>\n",
       "      <td>3.000000</td>\n",
       "      <td>80.000000</td>\n",
       "      <td>8.000000</td>\n",
       "      <td>6.000000</td>\n",
       "      <td>512.329200</td>\n",
       "    </tr>\n",
       "  </tbody>\n",
       "</table>\n",
       "</div>"
      ],
      "text/plain": [
       "       PassengerId    Survived      Pclass         Age       SibSp  \\\n",
       "count   891.000000  891.000000  891.000000  714.000000  891.000000   \n",
       "mean    446.000000    0.383838    2.308642   29.699118    0.523008   \n",
       "std     257.353842    0.486592    0.836071   14.526497    1.102743   \n",
       "min       1.000000    0.000000    1.000000    0.420000    0.000000   \n",
       "25%     223.500000    0.000000    2.000000   20.125000    0.000000   \n",
       "50%     446.000000    0.000000    3.000000   28.000000    0.000000   \n",
       "75%     668.500000    1.000000    3.000000   38.000000    1.000000   \n",
       "max     891.000000    1.000000    3.000000   80.000000    8.000000   \n",
       "\n",
       "            Parch        Fare  \n",
       "count  891.000000  891.000000  \n",
       "mean     0.381594   32.204208  \n",
       "std      0.806057   49.693429  \n",
       "min      0.000000    0.000000  \n",
       "25%      0.000000    7.910400  \n",
       "50%      0.000000   14.454200  \n",
       "75%      0.000000   31.000000  \n",
       "max      6.000000  512.329200  "
      ]
     },
     "execution_count": 6,
     "metadata": {},
     "output_type": "execute_result"
    }
   ],
   "source": [
    "#Showing statistical about numeric columns\n",
    "titanic_data.describe()"
   ]
  },
  {
   "cell_type": "markdown",
   "id": "46647bcb",
   "metadata": {
    "papermill": {
     "duration": 0.008834,
     "end_time": "2024-03-21T23:47:21.953268",
     "exception": false,
     "start_time": "2024-03-21T23:47:21.944434",
     "status": "completed"
    },
    "tags": []
   },
   "source": [
    "Data Cleaning"
   ]
  },
  {
   "cell_type": "code",
   "execution_count": 7,
   "id": "e5653b06",
   "metadata": {
    "execution": {
     "iopub.execute_input": "2024-03-21T23:47:21.973046Z",
     "iopub.status.busy": "2024-03-21T23:47:21.972642Z",
     "iopub.status.idle": "2024-03-21T23:47:21.982037Z",
     "shell.execute_reply": "2024-03-21T23:47:21.980963Z"
    },
    "papermill": {
     "duration": 0.022352,
     "end_time": "2024-03-21T23:47:21.984696",
     "exception": false,
     "start_time": "2024-03-21T23:47:21.962344",
     "status": "completed"
    },
    "tags": []
   },
   "outputs": [
    {
     "data": {
      "text/plain": [
       "PassengerId      0\n",
       "Survived         0\n",
       "Pclass           0\n",
       "Name             0\n",
       "Sex              0\n",
       "Age            177\n",
       "SibSp            0\n",
       "Parch            0\n",
       "Ticket           0\n",
       "Fare             0\n",
       "Cabin          687\n",
       "Embarked         2\n",
       "dtype: int64"
      ]
     },
     "execution_count": 7,
     "metadata": {},
     "output_type": "execute_result"
    }
   ],
   "source": [
    "#Cheking null values in every columns\n",
    "titanic_data.isna().sum()"
   ]
  },
  {
   "cell_type": "markdown",
   "id": "82255a06",
   "metadata": {
    "execution": {
     "iopub.execute_input": "2024-03-21T23:47:22.006488Z",
     "iopub.status.busy": "2024-03-21T23:47:22.005249Z",
     "iopub.status.idle": "2024-03-21T23:47:22.013252Z",
     "shell.execute_reply": "2024-03-21T23:47:22.012137Z"
    },
    "papermill": {
     "duration": 0.021019,
     "end_time": "2024-03-21T23:47:22.015655",
     "exception": false,
     "start_time": "2024-03-21T23:47:21.994636",
     "status": "completed"
    },
    "tags": []
   },
   "source": [
    "as we see there is 3 columns that contains missing values 'Age','Cabin' and 'Embarked' let's choose the best strategy for each column"
   ]
  },
  {
   "cell_type": "code",
   "execution_count": 8,
   "id": "aef511dc",
   "metadata": {
    "execution": {
     "iopub.execute_input": "2024-03-21T23:47:22.037001Z",
     "iopub.status.busy": "2024-03-21T23:47:22.036268Z",
     "iopub.status.idle": "2024-03-21T23:47:22.045373Z",
     "shell.execute_reply": "2024-03-21T23:47:22.044247Z"
    },
    "papermill": {
     "duration": 0.022965,
     "end_time": "2024-03-21T23:47:22.048172",
     "exception": false,
     "start_time": "2024-03-21T23:47:22.025207",
     "status": "completed"
    },
    "tags": []
   },
   "outputs": [
    {
     "data": {
      "text/plain": [
       "0"
      ]
     },
     "execution_count": 8,
     "metadata": {},
     "output_type": "execute_result"
    }
   ],
   "source": [
    "#The 'Age' column, we use the mean stategy to deal with missing values\n",
    "age_mean = titanic_data['Age'].mean()\n",
    "titanic_data['Age'] = titanic_data['Age'].fillna(age_mean)\n",
    "titanic_data['Age'].isna().sum()"
   ]
  },
  {
   "cell_type": "code",
   "execution_count": 9,
   "id": "be3f1d65",
   "metadata": {
    "execution": {
     "iopub.execute_input": "2024-03-21T23:47:22.070708Z",
     "iopub.status.busy": "2024-03-21T23:47:22.069928Z",
     "iopub.status.idle": "2024-03-21T23:47:22.079853Z",
     "shell.execute_reply": "2024-03-21T23:47:22.078733Z"
    },
    "papermill": {
     "duration": 0.024132,
     "end_time": "2024-03-21T23:47:22.082797",
     "exception": false,
     "start_time": "2024-03-21T23:47:22.058665",
     "status": "completed"
    },
    "tags": []
   },
   "outputs": [],
   "source": [
    "#The 'Cabin' Column let's drop this column beacause it doesn't help in our task:\n",
    "titanic_data.drop(columns=['Cabin'],inplace=True)"
   ]
  },
  {
   "cell_type": "code",
   "execution_count": 10,
   "id": "a4c9620b",
   "metadata": {
    "execution": {
     "iopub.execute_input": "2024-03-21T23:47:22.104331Z",
     "iopub.status.busy": "2024-03-21T23:47:22.103934Z",
     "iopub.status.idle": "2024-03-21T23:47:22.113895Z",
     "shell.execute_reply": "2024-03-21T23:47:22.112983Z"
    },
    "papermill": {
     "duration": 0.023495,
     "end_time": "2024-03-21T23:47:22.116220",
     "exception": false,
     "start_time": "2024-03-21T23:47:22.092725",
     "status": "completed"
    },
    "tags": []
   },
   "outputs": [
    {
     "data": {
      "text/plain": [
       "0"
      ]
     },
     "execution_count": 10,
     "metadata": {},
     "output_type": "execute_result"
    }
   ],
   "source": [
    "#For the 'Embarked' column let's fill with the most frequent item\n",
    "most_frequent_item = titanic_data['Embarked'].value_counts().idxmax()\n",
    "titanic_data['Embarked'] = titanic_data['Embarked'].fillna(most_frequent_item)\n",
    "titanic_data['Embarked'].isna().sum()"
   ]
  },
  {
   "cell_type": "code",
   "execution_count": 11,
   "id": "09764838",
   "metadata": {
    "execution": {
     "iopub.execute_input": "2024-03-21T23:47:22.137841Z",
     "iopub.status.busy": "2024-03-21T23:47:22.136982Z",
     "iopub.status.idle": "2024-03-21T23:47:22.146624Z",
     "shell.execute_reply": "2024-03-21T23:47:22.145456Z"
    },
    "papermill": {
     "duration": 0.023152,
     "end_time": "2024-03-21T23:47:22.149150",
     "exception": false,
     "start_time": "2024-03-21T23:47:22.125998",
     "status": "completed"
    },
    "tags": []
   },
   "outputs": [
    {
     "data": {
      "text/plain": [
       "PassengerId    0\n",
       "Survived       0\n",
       "Pclass         0\n",
       "Name           0\n",
       "Sex            0\n",
       "Age            0\n",
       "SibSp          0\n",
       "Parch          0\n",
       "Ticket         0\n",
       "Fare           0\n",
       "Embarked       0\n",
       "dtype: int64"
      ]
     },
     "execution_count": 11,
     "metadata": {},
     "output_type": "execute_result"
    }
   ],
   "source": [
    "#Recheck null values in the dataset\n",
    "titanic_data.isna().sum()"
   ]
  },
  {
   "cell_type": "code",
   "execution_count": 12,
   "id": "65d64d0a",
   "metadata": {
    "execution": {
     "iopub.execute_input": "2024-03-21T23:47:22.170927Z",
     "iopub.status.busy": "2024-03-21T23:47:22.170510Z",
     "iopub.status.idle": "2024-03-21T23:47:22.178540Z",
     "shell.execute_reply": "2024-03-21T23:47:22.177312Z"
    },
    "papermill": {
     "duration": 0.021959,
     "end_time": "2024-03-21T23:47:22.181169",
     "exception": false,
     "start_time": "2024-03-21T23:47:22.159210",
     "status": "completed"
    },
    "tags": []
   },
   "outputs": [],
   "source": [
    "#Let's encode the 'Sex' and 'Embarked' columns\n",
    "label_encoder = LabelEncoder()\n",
    "titanic_data['Sex'] = label_encoder.fit_transform(titanic_data['Sex'])\n",
    "titanic_data['Embarked'] = label_encoder.fit_transform(titanic_data['Embarked'])"
   ]
  },
  {
   "cell_type": "code",
   "execution_count": 13,
   "id": "76c335fd",
   "metadata": {
    "execution": {
     "iopub.execute_input": "2024-03-21T23:47:22.203145Z",
     "iopub.status.busy": "2024-03-21T23:47:22.202729Z",
     "iopub.status.idle": "2024-03-21T23:47:22.209523Z",
     "shell.execute_reply": "2024-03-21T23:47:22.208313Z"
    },
    "papermill": {
     "duration": 0.020582,
     "end_time": "2024-03-21T23:47:22.212119",
     "exception": false,
     "start_time": "2024-03-21T23:47:22.191537",
     "status": "completed"
    },
    "tags": []
   },
   "outputs": [],
   "source": [
    "#Drop unnessery columns : \n",
    "titanic_data.drop(columns=['Ticket','PassengerId','Name'],inplace=True)"
   ]
  },
  {
   "cell_type": "code",
   "execution_count": 14,
   "id": "867871f7",
   "metadata": {
    "execution": {
     "iopub.execute_input": "2024-03-21T23:47:22.233836Z",
     "iopub.status.busy": "2024-03-21T23:47:22.233417Z",
     "iopub.status.idle": "2024-03-21T23:47:22.248985Z",
     "shell.execute_reply": "2024-03-21T23:47:22.247807Z"
    },
    "papermill": {
     "duration": 0.029941,
     "end_time": "2024-03-21T23:47:22.252001",
     "exception": false,
     "start_time": "2024-03-21T23:47:22.222060",
     "status": "completed"
    },
    "tags": []
   },
   "outputs": [
    {
     "data": {
      "text/html": [
       "<div>\n",
       "<style scoped>\n",
       "    .dataframe tbody tr th:only-of-type {\n",
       "        vertical-align: middle;\n",
       "    }\n",
       "\n",
       "    .dataframe tbody tr th {\n",
       "        vertical-align: top;\n",
       "    }\n",
       "\n",
       "    .dataframe thead th {\n",
       "        text-align: right;\n",
       "    }\n",
       "</style>\n",
       "<table border=\"1\" class=\"dataframe\">\n",
       "  <thead>\n",
       "    <tr style=\"text-align: right;\">\n",
       "      <th></th>\n",
       "      <th>Survived</th>\n",
       "      <th>Pclass</th>\n",
       "      <th>Sex</th>\n",
       "      <th>Age</th>\n",
       "      <th>SibSp</th>\n",
       "      <th>Parch</th>\n",
       "      <th>Fare</th>\n",
       "      <th>Embarked</th>\n",
       "    </tr>\n",
       "  </thead>\n",
       "  <tbody>\n",
       "    <tr>\n",
       "      <th>0</th>\n",
       "      <td>0</td>\n",
       "      <td>3</td>\n",
       "      <td>1</td>\n",
       "      <td>22.0</td>\n",
       "      <td>1</td>\n",
       "      <td>0</td>\n",
       "      <td>7.2500</td>\n",
       "      <td>2</td>\n",
       "    </tr>\n",
       "    <tr>\n",
       "      <th>1</th>\n",
       "      <td>1</td>\n",
       "      <td>1</td>\n",
       "      <td>0</td>\n",
       "      <td>38.0</td>\n",
       "      <td>1</td>\n",
       "      <td>0</td>\n",
       "      <td>71.2833</td>\n",
       "      <td>0</td>\n",
       "    </tr>\n",
       "    <tr>\n",
       "      <th>2</th>\n",
       "      <td>1</td>\n",
       "      <td>3</td>\n",
       "      <td>0</td>\n",
       "      <td>26.0</td>\n",
       "      <td>0</td>\n",
       "      <td>0</td>\n",
       "      <td>7.9250</td>\n",
       "      <td>2</td>\n",
       "    </tr>\n",
       "    <tr>\n",
       "      <th>3</th>\n",
       "      <td>1</td>\n",
       "      <td>1</td>\n",
       "      <td>0</td>\n",
       "      <td>35.0</td>\n",
       "      <td>1</td>\n",
       "      <td>0</td>\n",
       "      <td>53.1000</td>\n",
       "      <td>2</td>\n",
       "    </tr>\n",
       "    <tr>\n",
       "      <th>4</th>\n",
       "      <td>0</td>\n",
       "      <td>3</td>\n",
       "      <td>1</td>\n",
       "      <td>35.0</td>\n",
       "      <td>0</td>\n",
       "      <td>0</td>\n",
       "      <td>8.0500</td>\n",
       "      <td>2</td>\n",
       "    </tr>\n",
       "  </tbody>\n",
       "</table>\n",
       "</div>"
      ],
      "text/plain": [
       "   Survived  Pclass  Sex   Age  SibSp  Parch     Fare  Embarked\n",
       "0         0       3    1  22.0      1      0   7.2500         2\n",
       "1         1       1    0  38.0      1      0  71.2833         0\n",
       "2         1       3    0  26.0      0      0   7.9250         2\n",
       "3         1       1    0  35.0      1      0  53.1000         2\n",
       "4         0       3    1  35.0      0      0   8.0500         2"
      ]
     },
     "execution_count": 14,
     "metadata": {},
     "output_type": "execute_result"
    }
   ],
   "source": [
    "titanic_data.head()"
   ]
  },
  {
   "cell_type": "markdown",
   "id": "366170fe",
   "metadata": {
    "papermill": {
     "duration": 0.00972,
     "end_time": "2024-03-21T23:47:22.272008",
     "exception": false,
     "start_time": "2024-03-21T23:47:22.262288",
     "status": "completed"
    },
    "tags": []
   },
   "source": [
    "Data Visualization"
   ]
  },
  {
   "cell_type": "code",
   "execution_count": 15,
   "id": "62a74816",
   "metadata": {
    "execution": {
     "iopub.execute_input": "2024-03-21T23:47:22.293879Z",
     "iopub.status.busy": "2024-03-21T23:47:22.293476Z",
     "iopub.status.idle": "2024-03-21T23:47:22.928307Z",
     "shell.execute_reply": "2024-03-21T23:47:22.927153Z"
    },
    "papermill": {
     "duration": 0.649242,
     "end_time": "2024-03-21T23:47:22.931319",
     "exception": false,
     "start_time": "2024-03-21T23:47:22.282077",
     "status": "completed"
    },
    "tags": []
   },
   "outputs": [
    {
     "data": {
      "image/png": "[encoded data removed]",
      "text/plain": [
       "<Figure size 640x480 with 1 Axes>"
      ]
     },
     "metadata": {},
     "output_type": "display_data"
    }
   ],
   "source": [
    "#Exploring the distribution by Age\n",
    "sns.histplot(x='Age',hue='Survived',kde=True,data=titanic_data)\n",
    "plt.title('Distribution of survivers by age')\n",
    "plt.legend(['Not survived','survived'])\n",
    "plt.show()"
   ]
  },
  {
   "cell_type": "code",
   "execution_count": 16,
   "id": "4decd318",
   "metadata": {
    "execution": {
     "iopub.execute_input": "2024-03-21T23:47:22.955463Z",
     "iopub.status.busy": "2024-03-21T23:47:22.955001Z",
     "iopub.status.idle": "2024-03-21T23:47:23.228136Z",
     "shell.execute_reply": "2024-03-21T23:47:23.226755Z"
    },
    "papermill": {
     "duration": 0.288437,
     "end_time": "2024-03-21T23:47:23.230883",
     "exception": false,
     "start_time": "2024-03-21T23:47:22.942446",
     "status": "completed"
    },
    "tags": []
   },
   "outputs": [
    {
     "data": {
      "image/png": "[encoded data removed]",
      "text/plain": [
       "<Figure size 640x480 with 1 Axes>"
      ]
     },
     "metadata": {},
     "output_type": "display_data"
    }
   ],
   "source": [
    "#Exploring the distribution of surviver by gender\n",
    "sns.countplot(x='Survived',hue='Sex',data=titanic_data)\n",
    "plt.title(\"Survival count by gender\")\n",
    "plt.legend(['Female','Male'])\n",
    "plt.xticks((0,1),labels=['Not survived','survived'])\n",
    "plt.show()"
   ]
  },
  {
   "cell_type": "code",
   "execution_count": 17,
   "id": "89359039",
   "metadata": {
    "execution": {
     "iopub.execute_input": "2024-03-21T23:47:23.255937Z",
     "iopub.status.busy": "2024-03-21T23:47:23.255537Z",
     "iopub.status.idle": "2024-03-21T23:47:23.564745Z",
     "shell.execute_reply": "2024-03-21T23:47:23.563533Z"
    },
    "papermill": {
     "duration": 0.325036,
     "end_time": "2024-03-21T23:47:23.567452",
     "exception": false,
     "start_time": "2024-03-21T23:47:23.242416",
     "status": "completed"
    },
    "tags": []
   },
   "outputs": [
    {
     "data": {
      "image/png": "[encoded data removed]",
      "text/plain": [
       "<Figure size 640x480 with 1 Axes>"
      ]
     },
     "metadata": {},
     "output_type": "display_data"
    }
   ],
   "source": [
    "#Exploring the distribution of surviver by pesenger class\n",
    "sns.countplot(x='Survived',hue='Pclass',data=titanic_data)\n",
    "plt.title(\"Survival count by pesenger class\")\n",
    "plt.xticks((0,1),labels=['Not survived','survived'])\n",
    "plt.show()"
   ]
  },
  {
   "cell_type": "code",
   "execution_count": 18,
   "id": "dcca5163",
   "metadata": {
    "execution": {
     "iopub.execute_input": "2024-03-21T23:47:23.593276Z",
     "iopub.status.busy": "2024-03-21T23:47:23.592866Z",
     "iopub.status.idle": "2024-03-21T23:47:24.457708Z",
     "shell.execute_reply": "2024-03-21T23:47:24.456470Z"
    },
    "papermill": {
     "duration": 0.880844,
     "end_time": "2024-03-21T23:47:24.460376",
     "exception": false,
     "start_time": "2024-03-21T23:47:23.579532",
     "status": "completed"
    },
    "tags": []
   },
   "outputs": [
    {
     "data": {
      "image/png": "[encoded data removed]",
      "text/plain": [
       "<Figure size 640x480 with 1 Axes>"
      ]
     },
     "metadata": {},
     "output_type": "display_data"
    }
   ],
   "source": [
    "#Exploring the Fare between pessenger \n",
    "sns.histplot(x='Fare',hue='Survived',kde=True,data=titanic_data)\n",
    "plt.title('Distribution of survivers by age')\n",
    "plt.legend(['Not survived','survived'])\n",
    "plt.show()"
   ]
  },
  {
   "cell_type": "code",
   "execution_count": 19,
   "id": "4a0bc238",
   "metadata": {
    "execution": {
     "iopub.execute_input": "2024-03-21T23:47:24.490124Z",
     "iopub.status.busy": "2024-03-21T23:47:24.489728Z",
     "iopub.status.idle": "2024-03-21T23:47:24.536954Z",
     "shell.execute_reply": "2024-03-21T23:47:24.535597Z"
    },
    "papermill": {
     "duration": 0.065925,
     "end_time": "2024-03-21T23:47:24.540526",
     "exception": false,
     "start_time": "2024-03-21T23:47:24.474601",
     "status": "completed"
    },
    "tags": []
   },
   "outputs": [
    {
     "name": "stdout",
     "output_type": "stream",
     "text": [
      "prediction :[0 0 0 1 1 1 1 0 1 1 0 0 0 0 0 1 0 1 0 0 0 0 0 0 0 0 0 0 0 0 0 0 0 0 0 0 0\n",
      " 1 1 0 0 0 0 0 1 0 0 0 0 0 1 1 0 1 0 1 0 1 1 1 0 1 1 0 0 1 0 0 0 1 1 1 0 1\n",
      " 0 0 1 1 1 0 0 1 1 0 0 0 1 1 0 0 1 0 0 0 0 0 0 0 1 0 0 0 1 0 0 0 1 0 0 0 1\n",
      " 0 1 0 0 0 0 0 1 0 0 1 1 1 0 0 1 0 1 0 1 0 0 0 0 1 1 0 0 0 0 1 0 0 0 1 0 0\n",
      " 1 0 0 0 0 1 0 0 0 1 1 1 0 0 0 1 0 0 0 1 0 0 0 1 0 1 0 0 0 1 0 0 0 0 0 0 0\n",
      " 0 0 0 0 1 0 0 0 0 1 1 1 0 1 0 0 0 1 0 0 1 0 0 0 0 0 0 1 0 0 0 1 0 1 0 0 1\n",
      " 0 0 0 1 0 1 1 0 0 1 0 1 0 0 1 0 1 0 0 1 0 0 0 0 0 0 0 0 0 0 0 0 0 0 0 1 0\n",
      " 1 1 0 1 0 0 0 0 0]\n",
      "_______________________________________________________________________________\n",
      "Accuracy: 0.8171641791044776\n",
      "Precission: 0.8780487804878049\n",
      "Confussion Matrix :\n",
      "[[147  10]\n",
      " [ 39  72]]\n"
     ]
    }
   ],
   "source": [
    "#Split the data into training and testing \n",
    "X = titanic_data.drop(columns=['Survived'],axis=1)\n",
    "y = titanic_data['Survived']\n",
    "\n",
    "\n",
    "X_train,X_test,y_train,y_test = train_test_split(X,y,test_size=0.3,random_state=42)\n",
    "\n",
    "scaler = StandardScaler()\n",
    "X_train_scalled = scaler.fit_transform(X_train)\n",
    "X_test_scalled = scaler.fit_transform(X_test)\n",
    "\n",
    "\n",
    "model = SVC()\n",
    "model.fit(X_train_scalled,y_train)\n",
    "y_pred = model.predict(X_test_scalled)\n",
    "print(f\"prediction :{y_pred}\")\n",
    "\n",
    "print('_______________________________________________________________________________')\n",
    "accuracy = accuracy_score(y_test,y_pred)\n",
    "precision = precision_score(y_test,y_pred)\n",
    "confx_matrix = confusion_matrix(y_test,y_pred)\n",
    "print(f\"Accuracy: {accuracy}\")\n",
    "print(f\"Precission: {precision}\") \n",
    "print(f\"Confussion Matrix :\\n{confx_matrix}\")\n",
    "\n"
   ]
  },
  {
   "cell_type": "code",
   "execution_count": 20,
   "id": "c23f0af8",
   "metadata": {
    "execution": {
     "iopub.execute_input": "2024-03-21T23:47:24.568270Z",
     "iopub.status.busy": "2024-03-21T23:47:24.567329Z",
     "iopub.status.idle": "2024-03-21T23:47:24.581597Z",
     "shell.execute_reply": "2024-03-21T23:47:24.580208Z"
    },
    "papermill": {
     "duration": 0.031112,
     "end_time": "2024-03-21T23:47:24.584334",
     "exception": false,
     "start_time": "2024-03-21T23:47:24.553222",
     "status": "completed"
    },
    "tags": []
   },
   "outputs": [
    {
     "data": {
      "text/html": [
       "<div>\n",
       "<style scoped>\n",
       "    .dataframe tbody tr th:only-of-type {\n",
       "        vertical-align: middle;\n",
       "    }\n",
       "\n",
       "    .dataframe tbody tr th {\n",
       "        vertical-align: top;\n",
       "    }\n",
       "\n",
       "    .dataframe thead th {\n",
       "        text-align: right;\n",
       "    }\n",
       "</style>\n",
       "<table border=\"1\" class=\"dataframe\">\n",
       "  <thead>\n",
       "    <tr style=\"text-align: right;\">\n",
       "      <th></th>\n",
       "      <th>Survived</th>\n",
       "    </tr>\n",
       "  </thead>\n",
       "  <tbody>\n",
       "    <tr>\n",
       "      <th>0</th>\n",
       "      <td>Did not survived</td>\n",
       "    </tr>\n",
       "    <tr>\n",
       "      <th>1</th>\n",
       "      <td>Did not survived</td>\n",
       "    </tr>\n",
       "    <tr>\n",
       "      <th>2</th>\n",
       "      <td>Did not survived</td>\n",
       "    </tr>\n",
       "    <tr>\n",
       "      <th>3</th>\n",
       "      <td>Survived</td>\n",
       "    </tr>\n",
       "    <tr>\n",
       "      <th>4</th>\n",
       "      <td>Survived</td>\n",
       "    </tr>\n",
       "    <tr>\n",
       "      <th>...</th>\n",
       "      <td>...</td>\n",
       "    </tr>\n",
       "    <tr>\n",
       "      <th>263</th>\n",
       "      <td>Did not survived</td>\n",
       "    </tr>\n",
       "    <tr>\n",
       "      <th>264</th>\n",
       "      <td>Did not survived</td>\n",
       "    </tr>\n",
       "    <tr>\n",
       "      <th>265</th>\n",
       "      <td>Did not survived</td>\n",
       "    </tr>\n",
       "    <tr>\n",
       "      <th>266</th>\n",
       "      <td>Did not survived</td>\n",
       "    </tr>\n",
       "    <tr>\n",
       "      <th>267</th>\n",
       "      <td>Did not survived</td>\n",
       "    </tr>\n",
       "  </tbody>\n",
       "</table>\n",
       "<p>268 rows × 1 columns</p>\n",
       "</div>"
      ],
      "text/plain": [
       "             Survived\n",
       "0    Did not survived\n",
       "1    Did not survived\n",
       "2    Did not survived\n",
       "3            Survived\n",
       "4            Survived\n",
       "..                ...\n",
       "263  Did not survived\n",
       "264  Did not survived\n",
       "265  Did not survived\n",
       "266  Did not survived\n",
       "267  Did not survived\n",
       "\n",
       "[268 rows x 1 columns]"
      ]
     },
     "execution_count": 20,
     "metadata": {},
     "output_type": "execute_result"
    }
   ],
   "source": [
    "prediction = pd.DataFrame(y_pred,columns=['Survived'])\n",
    "prediction['Survived'] = prediction['Survived'].map({0:'Did not survived',1:'Survived'})\n",
    "prediction"
   ]
  }
 ],
 "metadata": {
  "kaggle": {
   "accelerator": "none",
   "dataSources": [
    {
     "datasetId": 1818188,
     "sourceId": 2965537,
     "sourceType": "datasetVersion"
    }
   ],
   "dockerImageVersionId": 30673,
   "isGpuEnabled": false,
   "isInternetEnabled": true,
   "language": "python",
   "sourceType": "notebook"
  },
  "kernelspec": {
   "display_name": "Python 3",
   "language": "python",
   "name": "python3"
  },
  "language_info": {
   "codemirror_mode": {
    "name": "ipython",
    "version": 3
   },
   "file_extension": ".py",
   "mimetype": "text/x-python",
   "name": "python",
   "nbconvert_exporter": "python",
   "pygments_lexer": "ipython3",
   "version": "3.12.4"
  },
  "papermill": {
   "default_parameters": {},
   "duration": 9.554867,
   "end_time": "2024-03-21T23:47:25.318613",
   "environment_variables": {},
   "exception": null,
   "input_path": "__notebook__.ipynb",
   "output_path": "__notebook__.ipynb",
   "parameters": {},
   "start_time": "2024-03-21T23:47:15.763746",
   "version": "2.5.0"
  }
 },
 "nbformat": 4,
 "nbformat_minor": 5
}
