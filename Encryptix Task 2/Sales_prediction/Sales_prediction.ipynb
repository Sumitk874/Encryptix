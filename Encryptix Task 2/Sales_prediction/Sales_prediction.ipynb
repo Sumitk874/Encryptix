{
 "cells": [
  {
   "cell_type": "markdown",
   "id": "f8a649ce",
   "metadata": {},
   "source": [
    "# Sales Prediction\n",
    "- Sales prediction involves forecasting the amount of a product that customers will purchase, taking into account various factors such as advertising expenditure, target audience segmentation, and advertising platform selection.\n",
    "\n",
    "- In businesses that offer products or services, the role of a Data Scientist is crucial for predicting future sales. They utilize machine learning techniques in Python to analyze and interpret data, enabling them to make informed decisions regarding advertising costs. By leveraging these predictions, businesses can optimize their advertising strategies and maximize sales potential. Let's embark on the journey of sales prediction using machine learning in Python.\n",
    "\n"
   ]
  },
  {
   "cell_type": "code",
   "execution_count": null,
   "id": "8f6391bc",
   "metadata": {
    "_cell_guid": "b1076dfc-b9ad-4769-8c92-a6c4dae69d19",
    "_uuid": "8f2839f25d086af736a60e9eeb907d3b93b6e0e5",
    "execution": {
     "iopub.execute_input": "2024-06-06T08:49:53.903708Z",
     "iopub.status.busy": "2024-06-06T08:49:53.903278Z",
     "iopub.status.idle": "2024-06-06T08:49:56.094551Z",
     "shell.execute_reply": "2024-06-06T08:49:56.093481Z"
    },
    "papermill": {
     "duration": 2.201833,
     "end_time": "2024-06-06T08:49:56.097372",
     "exception": false,
     "start_time": "2024-06-06T08:49:53.895539",
     "status": "completed"
    },
    "tags": []
   },
   "outputs": [],
   "source": [
    "import warnings\n",
    "warnings.filterwarnings('ignore')\n",
    "\n",
    "import numpy as np\n",
    "import pandas as pd\n",
    "\n",
    "# Data Visualisation tools\n",
    "import matplotlib.pyplot as plt \n",
    "import seaborn as sns"
   ]
  },
  {
   "cell_type": "code",
   "execution_count": null,
   "id": "708fc3af",
   "metadata": {
    "execution": {
     "iopub.execute_input": "2024-06-06T08:49:56.111533Z",
     "iopub.status.busy": "2024-06-06T08:49:56.111041Z",
     "iopub.status.idle": "2024-06-06T08:49:56.155395Z",
     "shell.execute_reply": "2024-06-06T08:49:56.154376Z"
    },
    "papermill": {
     "duration": 0.054124,
     "end_time": "2024-06-06T08:49:56.157781",
     "exception": false,
     "start_time": "2024-06-06T08:49:56.103657",
     "status": "completed"
    },
    "tags": []
   },
   "outputs": [],
   "source": [
    "sales_data = pd.read_csv(\"advertising.csv\")\n",
    "sales_data.head() "
   ]
  },
  {
   "cell_type": "code",
   "execution_count": null,
   "id": "67003193",
   "metadata": {
    "execution": {
     "iopub.execute_input": "2024-06-06T08:49:56.170938Z",
     "iopub.status.busy": "2024-06-06T08:49:56.170558Z",
     "iopub.status.idle": "2024-06-06T08:49:56.177092Z",
     "shell.execute_reply": "2024-06-06T08:49:56.176138Z"
    },
    "papermill": {
     "duration": 0.015499,
     "end_time": "2024-06-06T08:49:56.179244",
     "exception": false,
     "start_time": "2024-06-06T08:49:56.163745",
     "status": "completed"
    },
    "tags": []
   },
   "outputs": [],
   "source": [
    "sales_data.shape"
   ]
  },
  {
   "cell_type": "code",
   "execution_count": null,
   "id": "e93d0cb3",
   "metadata": {
    "execution": {
     "iopub.execute_input": "2024-06-06T08:49:56.192485Z",
     "iopub.status.busy": "2024-06-06T08:49:56.192098Z",
     "iopub.status.idle": "2024-06-06T08:49:56.218204Z",
     "shell.execute_reply": "2024-06-06T08:49:56.217154Z"
    },
    "papermill": {
     "duration": 0.035491,
     "end_time": "2024-06-06T08:49:56.220559",
     "exception": false,
     "start_time": "2024-06-06T08:49:56.185068",
     "status": "completed"
    },
    "tags": []
   },
   "outputs": [],
   "source": [
    "sales_data.info()"
   ]
  },
  {
   "cell_type": "code",
   "execution_count": null,
   "id": "1410153c",
   "metadata": {
    "execution": {
     "iopub.execute_input": "2024-06-06T08:49:56.234237Z",
     "iopub.status.busy": "2024-06-06T08:49:56.233826Z",
     "iopub.status.idle": "2024-06-06T08:49:56.258702Z",
     "shell.execute_reply": "2024-06-06T08:49:56.257439Z"
    },
    "papermill": {
     "duration": 0.034555,
     "end_time": "2024-06-06T08:49:56.261084",
     "exception": false,
     "start_time": "2024-06-06T08:49:56.226529",
     "status": "completed"
    },
    "tags": []
   },
   "outputs": [],
   "source": [
    "sales_data.describe()"
   ]
  },
  {
   "cell_type": "markdown",
   "id": "a7f2f1ec",
   "metadata": {},
   "source": [
    "### DATA CLEANING"
   ]
  },
  {
   "cell_type": "code",
   "execution_count": null,
   "id": "6dfb5d98",
   "metadata": {
    "execution": {
     "iopub.execute_input": "2024-06-06T08:49:56.274825Z",
     "iopub.status.busy": "2024-06-06T08:49:56.274463Z",
     "iopub.status.idle": "2024-06-06T08:49:56.283431Z",
     "shell.execute_reply": "2024-06-06T08:49:56.282185Z"
    },
    "papermill": {
     "duration": 0.018639,
     "end_time": "2024-06-06T08:49:56.285827",
     "exception": false,
     "start_time": "2024-06-06T08:49:56.267188",
     "status": "completed"
    },
    "tags": []
   },
   "outputs": [],
   "source": [
    "#This checks if there are any NULL values and since there isn't any, means the data is clean. \n",
    "sales_data.isnull().sum()*100/sales_data.shape[0]"
   ]
  },
  {
   "cell_type": "markdown",
   "id": "30d09911",
   "metadata": {},
   "source": [
    "### Examining Outliers\n"
   ]
  },
  {
   "cell_type": "code",
   "execution_count": null,
   "id": "ab9405a1",
   "metadata": {
    "execution": {
     "iopub.execute_input": "2024-06-06T08:49:56.300541Z",
     "iopub.status.busy": "2024-06-06T08:49:56.299805Z",
     "iopub.status.idle": "2024-06-06T08:49:56.877682Z",
     "shell.execute_reply": "2024-06-06T08:49:56.876638Z"
    },
    "papermill": {
     "duration": 0.58789,
     "end_time": "2024-06-06T08:49:56.880133",
     "exception": false,
     "start_time": "2024-06-06T08:49:56.292243",
     "status": "completed"
    },
    "tags": []
   },
   "outputs": [],
   "source": [
    "fig, axs = plt.subplots(3, figsize = (5,5))\n",
    "plt1 = sns.boxplot(sales_data['TV'], ax = axs[0], orient='h')\n",
    "plt2 = sns.boxplot(sales_data['Newspaper'], ax = axs[1], orient='h')\n",
    "plt3 = sns.boxplot(sales_data['Radio'], ax = axs[2], orient='h')\n",
    "plt.tight_layout()"
   ]
  },
  {
   "cell_type": "markdown",
   "id": "8e8b8bdc",
   "metadata": {},
   "source": [
    "### EXPLORATORY DATA ANALYSIS"
   ]
  },
  {
   "cell_type": "code",
   "execution_count": null,
   "id": "af640779",
   "metadata": {
    "execution": {
     "iopub.execute_input": "2024-06-06T08:49:56.895924Z",
     "iopub.status.busy": "2024-06-06T08:49:56.894937Z",
     "iopub.status.idle": "2024-06-06T08:49:57.059976Z",
     "shell.execute_reply": "2024-06-06T08:49:57.058823Z"
    },
    "papermill": {
     "duration": 0.17549,
     "end_time": "2024-06-06T08:49:57.062319",
     "exception": false,
     "start_time": "2024-06-06T08:49:56.886829",
     "status": "completed"
    },
    "tags": []
   },
   "outputs": [],
   "source": [
    "sns.boxplot(sales_data['Sales'], orient='h')\n",
    "plt.show()"
   ]
  },
  {
   "cell_type": "markdown",
   "id": "0ffcb289",
   "metadata": {},
   "source": [
    "### Sales relation with the other vairables"
   ]
  },
  {
   "cell_type": "code",
   "execution_count": null,
   "id": "0a348748",
   "metadata": {
    "execution": {
     "iopub.execute_input": "2024-06-06T08:49:57.078132Z",
     "iopub.status.busy": "2024-06-06T08:49:57.077114Z",
     "iopub.status.idle": "2024-06-06T08:49:57.818542Z",
     "shell.execute_reply": "2024-06-06T08:49:57.817280Z"
    },
    "papermill": {
     "duration": 0.75223,
     "end_time": "2024-06-06T08:49:57.821297",
     "exception": false,
     "start_time": "2024-06-06T08:49:57.069067",
     "status": "completed"
    },
    "tags": []
   },
   "outputs": [],
   "source": [
    "sns.pairplot(sales_data, x_vars=['TV', 'Newspaper', 'Radio'], y_vars='Sales', height=4, aspect=1, kind='scatter')\n",
    "plt.show()"
   ]
  },
  {
   "cell_type": "markdown",
   "id": "99f5a9cb",
   "metadata": {},
   "source": [
    "### Correlation between variables\n"
   ]
  },
  {
   "cell_type": "code",
   "execution_count": null,
   "id": "e6d764f3",
   "metadata": {
    "execution": {
     "iopub.execute_input": "2024-06-06T08:49:57.838191Z",
     "iopub.status.busy": "2024-06-06T08:49:57.837811Z",
     "iopub.status.idle": "2024-06-06T08:49:58.086372Z",
     "shell.execute_reply": "2024-06-06T08:49:58.085279Z"
    },
    "papermill": {
     "duration": 0.259878,
     "end_time": "2024-06-06T08:49:58.088813",
     "exception": false,
     "start_time": "2024-06-06T08:49:57.828935",
     "status": "completed"
    },
    "tags": []
   },
   "outputs": [],
   "source": [
    "sns.heatmap(sales_data.corr(), cmap=\"YlGnBu\", annot = True)\n",
    "plt.show()"
   ]
  },
  {
   "cell_type": "markdown",
   "id": "34e1201c",
   "metadata": {},
   "source": [
    "### MODEL BUILDING - LINEAR REGRESSION "
   ]
  },
  {
   "cell_type": "code",
   "execution_count": null,
   "id": "7e21e26e",
   "metadata": {
    "execution": {
     "iopub.execute_input": "2024-06-06T08:49:58.106188Z",
     "iopub.status.busy": "2024-06-06T08:49:58.105798Z",
     "iopub.status.idle": "2024-06-06T08:49:58.375340Z",
     "shell.execute_reply": "2024-06-06T08:49:58.374157Z"
    },
    "papermill": {
     "duration": 0.281187,
     "end_time": "2024-06-06T08:49:58.377888",
     "exception": false,
     "start_time": "2024-06-06T08:49:58.096701",
     "status": "completed"
    },
    "tags": []
   },
   "outputs": [],
   "source": [
    "X = sales_data['TV']\n",
    "y = sales_data['Sales']\n",
    "\n",
    "from sklearn.model_selection import train_test_split\n",
    "X_train, X_test, y_train, y_test = train_test_split(X, y, train_size = 0.7, test_size = 0.3, random_state = 100)\n",
    "\n",
    "X_train.head()"
   ]
  },
  {
   "cell_type": "code",
   "execution_count": null,
   "id": "1593d3d0",
   "metadata": {
    "execution": {
     "iopub.execute_input": "2024-06-06T08:49:58.396226Z",
     "iopub.status.busy": "2024-06-06T08:49:58.395835Z",
     "iopub.status.idle": "2024-06-06T08:49:58.403989Z",
     "shell.execute_reply": "2024-06-06T08:49:58.402822Z"
    },
    "papermill": {
     "duration": 0.020045,
     "end_time": "2024-06-06T08:49:58.406235",
     "exception": false,
     "start_time": "2024-06-06T08:49:58.386190",
     "status": "completed"
    },
    "tags": []
   },
   "outputs": [],
   "source": [
    "y_train.head()"
   ]
  },
  {
   "cell_type": "markdown",
   "id": "1fa6e8c3",
   "metadata": {},
   "source": [
    "### Building a linear model"
   ]
  },
  {
   "cell_type": "code",
   "execution_count": null,
   "id": "62d00d96",
   "metadata": {
    "execution": {
     "iopub.execute_input": "2024-06-06T08:49:58.424000Z",
     "iopub.status.busy": "2024-06-06T08:49:58.423620Z",
     "iopub.status.idle": "2024-06-06T08:49:59.996183Z",
     "shell.execute_reply": "2024-06-06T08:49:59.995041Z"
    },
    "papermill": {
     "duration": 1.584251,
     "end_time": "2024-06-06T08:49:59.998621",
     "exception": false,
     "start_time": "2024-06-06T08:49:58.414370",
     "status": "completed"
    },
    "tags": []
   },
   "outputs": [],
   "source": [
    "import statsmodels.api as sm"
   ]
  },
  {
   "cell_type": "code",
   "execution_count": null,
   "id": "90901c7c",
   "metadata": {
    "execution": {
     "iopub.execute_input": "2024-06-06T08:50:00.017357Z",
     "iopub.status.busy": "2024-06-06T08:50:00.016767Z",
     "iopub.status.idle": "2024-06-06T08:50:00.031109Z",
     "shell.execute_reply": "2024-06-06T08:50:00.030060Z"
    },
    "papermill": {
     "duration": 0.026274,
     "end_time": "2024-06-06T08:50:00.033410",
     "exception": false,
     "start_time": "2024-06-06T08:50:00.007136",
     "status": "completed"
    },
    "tags": []
   },
   "outputs": [],
   "source": [
    "# Add a constant to get an intercept\n",
    "X_train_sm = sm.add_constant(X_train)\n",
    "\n",
    "# Fit the resgression line using 'OLS'\n",
    "lr = sm.OLS(y_train, X_train_sm).fit()\n",
    "\n",
    "#Print the parameters\n",
    "lr.params"
   ]
  },
  {
   "cell_type": "markdown",
   "id": "1dab4406",
   "metadata": {},
   "source": [
    "### Summary operation listing all parameters of the regression line\n"
   ]
  },
  {
   "cell_type": "code",
   "execution_count": null,
   "id": "56146ee9",
   "metadata": {
    "execution": {
     "iopub.execute_input": "2024-06-06T08:50:00.051835Z",
     "iopub.status.busy": "2024-06-06T08:50:00.051430Z",
     "iopub.status.idle": "2024-06-06T08:50:00.071245Z",
     "shell.execute_reply": "2024-06-06T08:50:00.070157Z"
    },
    "papermill": {
     "duration": 0.032324,
     "end_time": "2024-06-06T08:50:00.074010",
     "exception": false,
     "start_time": "2024-06-06T08:50:00.041686",
     "status": "completed"
    },
    "tags": []
   },
   "outputs": [],
   "source": [
    "print(lr.summary())"
   ]
  },
  {
   "cell_type": "code",
   "execution_count": null,
   "id": "2cc471d6",
   "metadata": {
    "execution": {
     "iopub.execute_input": "2024-06-06T08:50:00.094112Z",
     "iopub.status.busy": "2024-06-06T08:50:00.093680Z",
     "iopub.status.idle": "2024-06-06T08:50:00.387363Z",
     "shell.execute_reply": "2024-06-06T08:50:00.386346Z"
    },
    "papermill": {
     "duration": 0.305959,
     "end_time": "2024-06-06T08:50:00.389590",
     "exception": false,
     "start_time": "2024-06-06T08:50:00.083631",
     "status": "completed"
    },
    "tags": []
   },
   "outputs": [],
   "source": [
    "plt.scatter(X_train, y_train)\n",
    "plt.plot(X_train, 6.948 + 0.054*X_train, 'r')\n",
    "plt.show()"
   ]
  },
  {
   "cell_type": "markdown",
   "id": "d47d3f44",
   "metadata": {},
   "source": [
    "### MODEL EVALUATION\n"
   ]
  },
  {
   "cell_type": "code",
   "execution_count": null,
   "id": "336cc619",
   "metadata": {
    "execution": {
     "iopub.execute_input": "2024-06-06T08:50:00.409618Z",
     "iopub.status.busy": "2024-06-06T08:50:00.408889Z",
     "iopub.status.idle": "2024-06-06T08:50:00.757894Z",
     "shell.execute_reply": "2024-06-06T08:50:00.756630Z"
    },
    "papermill": {
     "duration": 0.361781,
     "end_time": "2024-06-06T08:50:00.760340",
     "exception": false,
     "start_time": "2024-06-06T08:50:00.398559",
     "status": "completed"
    },
    "tags": []
   },
   "outputs": [],
   "source": [
    "y_train_pred = lr.predict(X_train_sm)\n",
    "res = (y_train - y_train_pred)\n",
    "\n",
    "fig = plt.figure()\n",
    "sns.histplot(res, bins = 15)\n",
    "fig.suptitle('Error Terms', fontsize = 11)                  # Plot heading \n",
    "plt.xlabel('y_train - y_train_pred', fontsize = 11)         # X-label\n",
    "plt.show()"
   ]
  },
  {
   "cell_type": "code",
   "execution_count": null,
   "id": "cf230f04",
   "metadata": {
    "execution": {
     "iopub.execute_input": "2024-06-06T08:50:00.781661Z",
     "iopub.status.busy": "2024-06-06T08:50:00.781250Z",
     "iopub.status.idle": "2024-06-06T08:50:01.008132Z",
     "shell.execute_reply": "2024-06-06T08:50:01.007060Z"
    },
    "papermill": {
     "duration": 0.240365,
     "end_time": "2024-06-06T08:50:01.010353",
     "exception": false,
     "start_time": "2024-06-06T08:50:00.769988",
     "status": "completed"
    },
    "tags": []
   },
   "outputs": [],
   "source": [
    "plt.scatter(X_train,res)\n",
    "plt.show()"
   ]
  },
  {
   "cell_type": "markdown",
   "id": "c0734093",
   "metadata": {},
   "source": [
    "### PREDICTION ON THE TEST SET"
   ]
  },
  {
   "cell_type": "code",
   "execution_count": null,
   "id": "08509160",
   "metadata": {
    "execution": {
     "iopub.execute_input": "2024-06-06T08:50:01.031687Z",
     "iopub.status.busy": "2024-06-06T08:50:01.030905Z",
     "iopub.status.idle": "2024-06-06T08:50:01.041529Z",
     "shell.execute_reply": "2024-06-06T08:50:01.040450Z"
    },
    "papermill": {
     "duration": 0.023647,
     "end_time": "2024-06-06T08:50:01.043665",
     "exception": false,
     "start_time": "2024-06-06T08:50:01.020018",
     "status": "completed"
    },
    "tags": []
   },
   "outputs": [],
   "source": [
    "# Add a constant to X_test\n",
    "X_test_sm = sm.add_constant(X_test)\n",
    "\n",
    "# Predict the y values corresponding to X_test_sm\n",
    "y_pred = lr.predict(X_test_sm)\n",
    "y_pred.head()"
   ]
  },
  {
   "cell_type": "code",
   "execution_count": null,
   "id": "a309bf43",
   "metadata": {
    "execution": {
     "iopub.execute_input": "2024-06-06T08:50:01.065650Z",
     "iopub.status.busy": "2024-06-06T08:50:01.064812Z",
     "iopub.status.idle": "2024-06-06T08:50:01.073277Z",
     "shell.execute_reply": "2024-06-06T08:50:01.072224Z"
    },
    "papermill": {
     "duration": 0.021809,
     "end_time": "2024-06-06T08:50:01.075458",
     "exception": false,
     "start_time": "2024-06-06T08:50:01.053649",
     "status": "completed"
    },
    "tags": []
   },
   "outputs": [],
   "source": [
    "from sklearn.metrics import mean_squared_error\n",
    "from sklearn.metrics import r2_score\n",
    "\n",
    "np.sqrt(mean_squared_error(y_test, y_pred))"
   ]
  },
  {
   "cell_type": "markdown",
   "id": "9d18577b",
   "metadata": {},
   "source": [
    "#### R-SQUARED ON TEST SET\n"
   ]
  },
  {
   "cell_type": "code",
   "execution_count": null,
   "id": "c615091e",
   "metadata": {
    "execution": {
     "iopub.execute_input": "2024-06-06T08:50:01.096913Z",
     "iopub.status.busy": "2024-06-06T08:50:01.096507Z",
     "iopub.status.idle": "2024-06-06T08:50:01.104406Z",
     "shell.execute_reply": "2024-06-06T08:50:01.103298Z"
    },
    "papermill": {
     "duration": 0.021227,
     "end_time": "2024-06-06T08:50:01.106584",
     "exception": false,
     "start_time": "2024-06-06T08:50:01.085357",
     "status": "completed"
    },
    "tags": []
   },
   "outputs": [],
   "source": [
    "r_squared = r2_score(y_test, y_pred)\n",
    "r_squared"
   ]
  },
  {
   "cell_type": "code",
   "execution_count": null,
   "id": "bbe97ea5",
   "metadata": {
    "execution": {
     "iopub.execute_input": "2024-06-06T08:50:01.128894Z",
     "iopub.status.busy": "2024-06-06T08:50:01.128499Z",
     "iopub.status.idle": "2024-06-06T08:50:01.370497Z",
     "shell.execute_reply": "2024-06-06T08:50:01.369104Z"
    },
    "papermill": {
     "duration": 0.25576,
     "end_time": "2024-06-06T08:50:01.372820",
     "exception": false,
     "start_time": "2024-06-06T08:50:01.117060",
     "status": "completed"
    },
    "tags": []
   },
   "outputs": [],
   "source": [
    "plt.scatter(X_test, y_test)\n",
    "plt.plot(X_test, 6.948 + 0.054 * X_test, 'r')\n",
    "plt.show()"
   ]
  }
 ],
 "metadata": {
  "kaggle": {
   "accelerator": "none",
   "dataSources": [
    {
     "datasetId": 133357,
     "sourceId": 317184,
     "sourceType": "datasetVersion"
    },
    {
     "sourceId": 11258777,
     "sourceType": "kernelVersion"
    }
   ],
   "dockerImageVersionId": 30715,
   "isGpuEnabled": false,
   "isInternetEnabled": true,
   "language": "python",
   "sourceType": "notebook"
  },
  "kernelspec": {
   "display_name": "Python 3",
   "language": "python",
   "name": "python3"
  },
  "language_info": {
   "codemirror_mode": {
    "name": "ipython",
    "version": 3
   },
   "file_extension": ".py",
   "mimetype": "text/x-python",
   "name": "python",
   "nbconvert_exporter": "python",
   "pygments_lexer": "ipython3",
   "version": "3.10.13"
  },
  "papermill": {
   "default_parameters": {},
   "duration": 11.00147,
   "end_time": "2024-06-06T08:50:02.105437",
   "environment_variables": {},
   "exception": null,
   "input_path": "__notebook__.ipynb",
   "output_path": "__notebook__.ipynb",
   "parameters": {},
   "start_time": "2024-06-06T08:49:51.103967",
   "version": "2.5.0"
  }
 },
 "nbformat": 4,
 "nbformat_minor": 5
}
